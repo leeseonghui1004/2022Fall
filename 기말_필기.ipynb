{
  "nbformat": 4,
  "nbformat_minor": 0,
  "metadata": {
    "colab": {
      "provenance": [],
      "authorship_tag": "ABX9TyPFxWsaVLJGVo/F16WvGhER",
      "include_colab_link": true
    },
    "kernelspec": {
      "name": "python3",
      "display_name": "Python 3"
    },
    "language_info": {
      "name": "python"
    }
  },
  "cells": [
    {
      "cell_type": "markdown",
      "metadata": {
        "id": "view-in-github",
        "colab_type": "text"
      },
      "source": [
        "<a href=\"https://colab.research.google.com/github/leeseonghui1004/class2022Fall/blob/main/%EA%B8%B0%EB%A7%90_%ED%95%84%EA%B8%B0.ipynb\" target=\"_parent\"><img src=\"https://colab.research.google.com/assets/colab-badge.svg\" alt=\"Open In Colab\"/></a>"
      ]
    },
    {
      "cell_type": "markdown",
      "source": [
        "a라는 변수에다 1이라는 내용을 할당함\n",
        "str: 글자 ex)\"1\"\n",
        "float: 실수 ex)1.0, 1.2\n",
        "int: 정수 ex)2\n",
        "list: []\n",
        "dict: {:,:}, 정보가 pair로 있음, 앞쪽은 key, 뒤쪽은 \n",
        "#: 실행안됨, 부가 설명, 주석처리, comment out\n",
        "print: 함수(입출력이 정의되어 있는 것)\n",
        "class: 함수\n",
        "첫번째가 0번째 ex)a='123' a[0]=1\n",
        "list와 string은 index하는 방법이 똑같음\n",
        "-1번째는 제일 끝번째\n",
        "a[1:3]=첫번째부터 2번째까지\n"
      ],
      "metadata": {
        "id": "hIg68RIMHOLx"
      }
    },
    {
      "cell_type": "code",
      "execution_count": 8,
      "metadata": {
        "id": "cwEYq-KvGOyA"
      },
      "outputs": [],
      "source": [
        "a=\"1\"\n",
        "# 테스트\n",
        "b=2"
      ]
    },
    {
      "cell_type": "code",
      "source": [
        "print(b)\n",
        "#입력 b, 출력 2"
      ],
      "metadata": {
        "colab": {
          "base_uri": "https://localhost:8080/"
        },
        "id": "uW0nVI-GJQYp",
        "outputId": "30dbf830-ff4a-4095-b387-f2d8aca36c00"
      },
      "execution_count": 11,
      "outputs": [
        {
          "output_type": "stream",
          "name": "stdout",
          "text": [
            "2\n"
          ]
        }
      ]
    },
    {
      "cell_type": "code",
      "source": [
        "c=[2, 3, 'abc', 3.2, b]"
      ],
      "metadata": {
        "id": "jdG8kszGIVSM"
      },
      "execution_count": 9,
      "outputs": []
    },
    {
      "cell_type": "markdown",
      "source": [
        "- len은 함수(너무 중요), 길이를 나타냄\n",
        "- upper은 class 속에 들어있는 함수(method), 대문자로 만들어줌 ex)s.upper()\n",
        "- find도 class 함수 ex)s= 'this is a house built this year. ' s.find('house')=11\n",
        "- split은 빈칸이라는 문자를 가지고 쪼개진 문자를 list로 만듦 ex)tokens=s.split(' ') tokens ['this', 'is', 'a', 'house', 'built', 'this', 'year.']\n",
        "- join은 단어를 문장으로 합쳐주는것\n",
        "- replace는 단어 교체해주는 것\n",
        "\n"
      ],
      "metadata": {
        "id": "P5S6T6R9RHMG"
      }
    },
    {
      "cell_type": "markdown",
      "source": [
        "- syntax는 조건(어떨 때 이렇게 해라)과 반복\n",
        "- for i in a: a라는 리스트 속에서 제일 첫번째 것부터 받아서 끝까지 돌려라\n",
        "- tab으로 인덴트해서 print하기\n",
        "- range(4)=[0, 1, 2, 3]\n",
        "- 변수(word=variable)를 combine시킨 것이 syntax(if, for), syntax를 뭉친 것이 function, function을 모아놓은 것이 package\n"
      ],
      "metadata": {
        "id": "bSAKPqDLXfex"
      }
    },
    {
      "cell_type": "code",
      "source": [
        "a=0\n",
        "if a==0:\n",
        "  print(a) #인덴트 꼭하기\n",
        "else:\n",
        "  print(a+1)"
      ],
      "metadata": {
        "id": "ysSAgVwVYNoi"
      },
      "execution_count": null,
      "outputs": []
    },
    {
      "cell_type": "code",
      "source": [
        "for i in range(1,3):\n",
        "  for j in range(3, 5):\n",
        "    print(i*j) #시험문제"
      ],
      "metadata": {
        "id": "ZRNoYEh8Yhmv"
      },
      "execution_count": null,
      "outputs": []
    },
    {
      "cell_type": "code",
      "source": [
        "a=[1, 2, 3, 4]\n",
        "b=[i for i in a if i>=2] #list comprehension, list를 for 구문을 써서 한 줄로 만드는 것\n",
        "b"
      ],
      "metadata": {
        "colab": {
          "base_uri": "https://localhost:8080/"
        },
        "id": "UAkWEHL1Z7Lz",
        "outputId": "bddfab8d-b250-46d6-a6f6-e5c8384380ff"
      },
      "execution_count": 12,
      "outputs": [
        {
          "output_type": "execute_result",
          "data": {
            "text/plain": [
              "[2, 3, 4]"
            ]
          },
          "metadata": {},
          "execution_count": 12
        }
      ]
    },
    {
      "cell_type": "code",
      "source": [
        "a=['red', 'green', 'blue', 'purple']\n",
        "b=[1,2,3,4]\n",
        "c={a[i]:b[i] for i in range(4)} #dict comprehension, dict는 꼭 순서를 지켜야 할 필요는 없음(blue 먼저 나열해도 상관X)\n",
        "c"
      ],
      "metadata": {
        "colab": {
          "base_uri": "https://localhost:8080/"
        },
        "id": "H72Tw3pfa3kx",
        "outputId": "98c64b4b-c681-49a3-a6da-880e98c6e8c7"
      },
      "execution_count": 13,
      "outputs": [
        {
          "output_type": "execute_result",
          "data": {
            "text/plain": [
              "{'red': 1, 'green': 2, 'blue': 3, 'purple': 4}"
            ]
          },
          "metadata": {},
          "execution_count": 13
        }
      ]
    },
    {
      "cell_type": "code",
      "source": [
        "def add(a,b):\n",
        "  c=a+b\n",
        "  return c\n",
        "#add라는 function을 만드는 방법"
      ],
      "metadata": {
        "id": "l3pcbOqhcr50"
      },
      "execution_count": null,
      "outputs": []
    },
    {
      "cell_type": "markdown",
      "source": [
        "- array는 변수의 list"
      ],
      "metadata": {
        "id": "kiVVq2KRfi6f"
      }
    },
    {
      "cell_type": "code",
      "source": [
        "import numpy as np\n",
        "n=np.random.randn(100) #randn은 function, np는 package, random은 내부적으로 np 안에 들어있는 폴더\n",
        "#100개의 랜덤 숫자를 만들어냄\n",
        "n"
      ],
      "metadata": {
        "colab": {
          "base_uri": "https://localhost:8080/"
        },
        "id": "EV6mvTMlfARx",
        "outputId": "13bb0a98-5285-47cf-9f05-562b69dfd796"
      },
      "execution_count": 15,
      "outputs": [
        {
          "output_type": "execute_result",
          "data": {
            "text/plain": [
              "array([ 0.9424013 , -1.39781187,  1.68252429, -0.07457474,  2.03394741,\n",
              "        0.74881261,  0.0136835 ,  1.12310758,  0.71789551,  2.21510273,\n",
              "        0.06509229,  0.91794913,  0.72429086, -0.37247342,  0.2470224 ,\n",
              "       -1.05072576,  0.60604573, -1.14878628, -0.79889505,  0.17244263,\n",
              "        0.34012771,  1.12627472, -0.66005338, -0.16217137,  1.63457677,\n",
              "        0.41309524, -0.89076284,  0.47752469,  1.80288996,  0.65302222,\n",
              "       -0.59079958,  1.10946606, -0.86772825,  1.4189424 ,  0.62048257,\n",
              "       -1.35950822,  0.3011616 ,  0.21755122, -1.66967593, -0.29796076,\n",
              "        2.87445749,  0.64720414, -0.52615518, -0.34101263,  0.72996457,\n",
              "        1.67630843,  1.70972033, -0.25430025, -0.59350764,  0.57311985,\n",
              "       -1.35716998, -1.53109772, -0.52418635, -0.15365192,  1.33536736,\n",
              "        1.4928425 ,  0.37748752,  0.65954283,  2.42606492,  0.48301689,\n",
              "       -0.58742655,  1.991426  , -0.44680195,  0.23851604,  0.97616793,\n",
              "       -1.03458695, -0.11548165,  0.93970111,  0.76232061, -0.72734745,\n",
              "        2.14732041,  0.23867141, -0.7880412 ,  0.60345925,  0.88828436,\n",
              "        0.64699759,  0.78376085,  0.62479377,  0.94613369, -2.99465794,\n",
              "       -0.98942374, -0.10141925, -0.49405728, -1.41333415,  0.65627353,\n",
              "        0.7703702 , -0.01730318, -1.07477835, -0.92038996,  1.02460271,\n",
              "        0.01441938, -1.61327607,  0.96568411,  0.65483966,  0.11161648,\n",
              "        0.10653297, -1.42212161,  0.69311984, -2.97206688,  0.65889   ])"
            ]
          },
          "metadata": {},
          "execution_count": 15
        }
      ]
    }
  ]
}